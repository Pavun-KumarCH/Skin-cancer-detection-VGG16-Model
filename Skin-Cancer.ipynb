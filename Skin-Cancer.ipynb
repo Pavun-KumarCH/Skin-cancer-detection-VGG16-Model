{
  "nbformat": 4,
  "nbformat_minor": 0,
  "metadata": {
    "colab": {
      "private_outputs": true,
      "provenance": [],
      "gpuType": "T4",
      "authorship_tag": "ABX9TyPBkH02obkf5J5GfbbZx5BJ",
      "include_colab_link": true
    },
    "kernelspec": {
      "name": "python3",
      "display_name": "Python 3"
    },
    "language_info": {
      "name": "python"
    },
    "accelerator": "GPU"
  },
  "cells": [
    {
      "cell_type": "markdown",
      "metadata": {
        "id": "view-in-github",
        "colab_type": "text"
      },
      "source": [
        "<a href=\"https://colab.research.google.com/github/Pavun-KumarCH/Skin-cancer-detection-VGG16-Model/blob/main/Skin-Cancer.ipynb\" target=\"_parent\"><img src=\"https://colab.research.google.com/assets/colab-badge.svg\" alt=\"Open In Colab\"/></a>"
      ]
    },
    {
      "cell_type": "markdown",
      "source": [
        "# Skin Cancer Classification with Machine Learning\n",
        "So this is where a machine learning algorithm works in the classification of Skin Cancer. As I mentioned earlier Skin Cancer can be easily cured in the early stages of the disease, but it’s the people who don’t want to visit the doctor.\n",
        "\n",
        "So here is a simple machine learning algorithm, which can help those people to identify if they are having skin cancer or not while sitting at their homes. This Machine Learning algorithm is based on Convolutional Neural Networks (CNN)."
      ],
      "metadata": {
        "id": "gXVud23tK_l4"
      }
    },
    {
      "cell_type": "markdown",
      "source": [
        "# CNN Layer Classification for skin cancer detection\n"
      ],
      "metadata": {
        "id": "QHaqKxnlLVbT"
      }
    },
    {
      "cell_type": "code",
      "execution_count": null,
      "metadata": {
        "id": "mK8_zGlmK8VY"
      },
      "outputs": [],
      "source": [
        "# Let Import required libraries\n",
        "import numpy as np\n",
        "from skimage import io\n",
        "import matplotlib.pyplot as plt\n",
        "import tensorflow as tf\n",
        "import tf_keras as keras"
      ]
    },
    {
      "cell_type": "code",
      "source": [
        "# import required tensorfloe modules\n",
        "from keras.layers import InputLayer, Conv2D, MaxPool2D, Dense, Flatten, Dropout"
      ],
      "metadata": {
        "id": "13dy6t00Zsep"
      },
      "execution_count": null,
      "outputs": []
    },
    {
      "cell_type": "markdown",
      "source": [
        "Now I will simply upload images to train our machine learning model using the skimage library in python."
      ],
      "metadata": {
        "id": "Sq7LOjCXL1Xi"
      }
    },
    {
      "cell_type": "code",
      "source": [
        "imgb = io.imread('b1.png')\n",
        "imgm = io.imread('m1.png')"
      ],
      "metadata": {
        "id": "g1pKhC4UL2xI"
      },
      "execution_count": null,
      "outputs": []
    },
    {
      "cell_type": "markdown",
      "source": [
        "These images are sample images of Benign mole and Malign mole which are a type of skin problems."
      ],
      "metadata": {
        "id": "mbFjF889SHfn"
      }
    },
    {
      "cell_type": "markdown",
      "source": [
        "Lets visualize this images"
      ],
      "metadata": {
        "id": "mwDwseTVP6NK"
      }
    },
    {
      "cell_type": "code",
      "source": [
        "plt.figure(figsize = (10, 20))\n",
        "plt.subplot(1, 2, 1)\n",
        "plt.imshow(imgb)\n",
        "plt.title(\"Benign\")\n",
        "plt.axis('off')\n",
        "plt.subplot(1, 2, 2)\n",
        "plt.imshow(imgm)\n",
        "plt.title('Malign')\n",
        "plt.axis('off')"
      ],
      "metadata": {
        "id": "wj65SVApP86I"
      },
      "execution_count": null,
      "outputs": []
    },
    {
      "cell_type": "markdown",
      "source": [
        "# Lets format the images to our requires size"
      ],
      "metadata": {
        "id": "5rYiFh5Uzv1F"
      }
    },
    {
      "cell_type": "code",
      "source": [
        "def format_image(image):\n",
        "  image = tf.image.resize(image[:, : ,:3],(128, 128))/255.\n",
        "  image = np.expand_dims(image, axis = 0)\n",
        "  return image\n",
        "\n",
        "imgb1 = format_image(imgb)\n",
        "\n",
        "print(imgb.shape)\n",
        "print(imgb1.shape)"
      ],
      "metadata": {
        "id": "Wp3HBh2XxO2o"
      },
      "execution_count": null,
      "outputs": []
    },
    {
      "cell_type": "markdown",
      "source": [
        "#Lets creates a model with the VGG16 architecture followed by a sequential model for binary classification."
      ],
      "metadata": {
        "id": "GFmAX8HWQtKl"
      }
    },
    {
      "cell_type": "code",
      "source": [
        "# VGG16 architecture\n",
        "\n",
        "model  = tf.keras.Sequential([\n",
        "\n",
        "    # Input layer\n",
        "    tf.keras.layers.InputLayer(input_shape = (128, 128, 3), name = 'Input_Layer'),\n",
        "\n",
        "    # Block 1\n",
        "    Conv2D(64, (3,3), padding = 'same', activation = 'relu', name = 'Block1_conv1'),\n",
        "    Conv2D(64, (3,3), padding = 'same', activation = 'relu', name = 'Block1_Conv2'),\n",
        "    MaxPool2D((2,2), strides = (2,2), name = 'Block__Maxpool'),\n",
        "\n",
        "    # Block 2\n",
        "    Conv2D(128, (3,3), padding = 'same', activation = 'relu', name = 'Block2_conv1'),\n",
        "    Conv2D(128, (3,3), padding = 'same', activation = 'relu', name = 'Block2_conv2'),\n",
        "    MaxPool2D((2,2), strides = (2,2), name = 'Block2_Maxpool'),\n",
        "\n",
        "    # Block 3\n",
        "    Conv2D(256, (3,3), padding = 'same', activation = 'relu', name = 'Block3_conv1'),\n",
        "    Conv2D(256, (3,3), padding = 'same', activation = 'relu', name = 'Block3_conv2'),\n",
        "    Conv2D(256, (3,3), padding = 'same', activation = 'relu', name = 'Block3_conv3'),\n",
        "    MaxPool2D((2,2), strides = (2,2), name = 'Block3_MaxPool'),\n",
        "\n",
        "    # Block 4\n",
        "    Conv2D(512, (3,3), padding = 'same', activation = 'relu', name = 'Block4_conv1'),\n",
        "    Conv2D(512, (3,3), padding = 'same', activation = 'relu', name = 'Block4_conv2'),\n",
        "    Conv2D(512, (3,3), padding = 'same', activation = 'relu', name = 'Block4_conv3'),\n",
        "    MaxPool2D((2,2), strides = (2,2), name = 'Block4_Maxpool'),\n",
        "\n",
        "    # Block 5\n",
        "    Conv2D(512, (3,3), padding = 'same', activation = 'relu', name = 'Block5_conv1'),\n",
        "    Conv2D(512, (3,3), padding = 'same', activation = 'relu', name = 'Block5_conv2'),\n",
        "    Conv2D(512, (3,3), padding = 'same', activation = 'relu', name = 'Block5_conv3'),\n",
        "    MaxPool2D((2,2), strides = (2,2), name = 'Block5_Maxpool'),\n",
        "\n",
        "    # Flatten\n",
        "    Flatten(),\n",
        "    Dense(256, activation = 'relu'),\n",
        "    Dense(units = 1, activation = 'sigmoid')\n",
        "    ])\n",
        "\n",
        "model.compile(optimizer = 'adam',\n",
        "              loss = tf.keras.losses.BinaryCrossentropy(),\n",
        "              metrics = ['accuracy'])\n",
        "\n",
        "model.summary()"
      ],
      "metadata": {
        "id": "FsjzPOGTZV6X"
      },
      "execution_count": null,
      "outputs": []
    },
    {
      "cell_type": "code",
      "source": [
        "# Functions\n",
        "\n",
        "from keras import backend as k\n",
        "\n",
        "def active_viewer(model, layer_name, im_put):\n",
        "  layer_dict = dict([(layer.name, layer) for layer in model.layers])\n",
        "  layer = layer_dict[layer_name]\n",
        "  active1 = k.function([model.layers[0].input, K.learning_phase()], [layer.output,])\n",
        "  activations = active1((im_put, False))\n",
        "  return activations\n",
        "\n",
        "\n",
        "  def normalize(x):\n",
        "    # Calculate L2 norm of the input tensor x\n",
        "    l2_norm = K.sqrt(K.mean(K.square(x)))\n",
        "\n",
        "    # Add a small epsilon value to the denominator to prevent division by zero\n",
        "    epsilon = 1e-5\n",
        "\n",
        "    # Normalize the input tensor by its L2 norm\n",
        "    return x / (l2_norm + epsilon)\n",
        "\n",
        "def deprocess_image(x):\n",
        "  # normalize tensor: center on 0., ensure std is 0.1\n",
        "  x -= x.maen()\n",
        "  x /= (x.std() + 1e-5)\n",
        "  x *= 0.1\n",
        "\n",
        "  # clip [0, 1]\n",
        "  x += 0.5\n",
        "  x = np.clip(x, 0, 1)\n",
        "\n",
        "  # Convert to RGB array\n",
        "  x *= 255\n",
        "  if k.image_data_format() == 'channels_first':\n",
        "    x = x.transpose(1, 2, 0)\n",
        "  x = np.clip(x, 0, 255).astye('uint8')\n",
        "\n",
        "def plot_filters(filters):\n",
        "  new_image = np.zeros(16*filters.shape[0],8*filters.shape[1])\n",
        "  for i in range(filters.shape[2]):\n",
        "    y = i%8\n",
        "    x = i//8\n",
        "    new_image[x*filters.shape[0]:x*filter.shape[0] + x*filters.shape[0],\n",
        "              y*filters.shape[1]:y*filters.shape[1] + y*filters.shape[1]] = filters[:,:,i]\n",
        "    plt.figure(figsize = (10, 20))\n",
        "    plt.imshow(new_image)\n",
        "    plt.axis('off')\n",
        "    plt.show()\n",
        "\n"
      ],
      "metadata": {
        "id": "r6Q5Z-M1fVlx"
      },
      "execution_count": null,
      "outputs": []
    },
    {
      "cell_type": "code",
      "source": [
        "layer_dict = dict([(layer.name, layer) for layer in model.layers])\n"
      ],
      "metadata": {
        "id": "qXCFlgWa0hZe"
      },
      "execution_count": null,
      "outputs": []
    },
    {
      "cell_type": "markdown",
      "source": [
        "Now lets visualize the output of our trained model\n"
      ],
      "metadata": {
        "id": "cwsZH9NhqBW2"
      }
    },
    {
      "cell_type": "code",
      "source": [
        "from tensorflow.keras.models import Model\n",
        "from tensorflow.keras.layers import Input, Conv2D, MaxPooling2D, Flatten, Dense\n",
        "\n",
        "# Input layer\n",
        "inputs = Input(shape=(128, 128, 3), name='input_1')\n",
        "\n",
        "# VGG16 architecture\n",
        "x = Conv2D(64, (3, 3), activation='relu', padding='same', name='block1_conv1')(inputs)\n",
        "x = Conv2D(64, (3, 3), activation='relu', padding='same', name='block1_conv2')(x)\n",
        "x = MaxPooling2D((2, 2), strides=(2, 2), name='block1_pool')(x)\n",
        "\n",
        "x = Conv2D(128, (3, 3), activation='relu', padding='same', name='block2_conv1')(x)\n",
        "x = Conv2D(128, (3, 3), activation='relu', padding='same', name='block2_conv2')(x)\n",
        "x = MaxPooling2D((2, 2), strides=(2, 2), name='block2_pool')(x)\n",
        "\n",
        "x = Conv2D(256, (3, 3), activation='relu', padding='same', name='block3_conv1')(x)\n",
        "x = Conv2D(256, (3, 3), activation='relu', padding='same', name='block3_conv2')(x)\n",
        "x = Conv2D(256, (3, 3), activation='relu', padding='same', name='block3_conv3')(x)\n",
        "x = MaxPooling2D((2, 2), strides=(2, 2), name='block3_pool')(x)\n",
        "\n",
        "x = Conv2D(512, (3, 3), activation='relu', padding='same', name='block4_conv1')(x)\n",
        "x = Conv2D(512, (3, 3), activation='relu', padding='same', name='block4_conv2')(x)\n",
        "x = Conv2D(512, (3, 3), activation='relu', padding='same', name='block4_conv3')(x)\n",
        "x = MaxPooling2D((2, 2), strides=(2, 2), name='block4_pool')(x)\n",
        "\n",
        "x = Conv2D(512, (3, 3), activation='relu', padding='same', name='block5_conv1')(x)\n",
        "x = Conv2D(512, (3, 3), activation='relu', padding='same', name='block5_conv2')(x)\n",
        "x = Conv2D(512, (3, 3), activation='relu', padding='same', name='block5_conv3')(x)\n",
        "x = MaxPooling2D((2, 2), strides=(2, 2), name='block5_pool')(x)\n",
        "\n",
        "# Flatten the output\n",
        "x = Flatten()(x)\n",
        "\n",
        "# Sequential model for binary classification\n",
        "outputs = Dense(1, activation='sigmoid', name='sequential_3')(x)\n",
        "\n",
        "# Create the model\n",
        "model = Model(inputs=inputs, outputs=outputs)\n",
        "\n",
        "# Print model summary\n",
        "model.summary()\n"
      ],
      "metadata": {
        "id": "BbBezZjQ9A0P"
      },
      "execution_count": null,
      "outputs": []
    },
    {
      "cell_type": "code",
      "source": [
        "from keras import backend as K\n",
        "\n",
        "def activ_viewer(model, layer_name, im_put):\n",
        "    layer_dict = dict([(layer.name, layer) for layer in model.layers])\n",
        "    layer = layer_dict[layer_name]\n",
        "    activ1 = K.function([model.layers[0].input, K.learning_phase()], [layer.output,])\n",
        "    activations = activ1((im_put, False))\n",
        "    return activations\n",
        "\n",
        "\n",
        "activ_benign = activ_viewer(model,'block2_conv1',imgb1.reshape(1, 128, 128, 3))\n"
      ],
      "metadata": {
        "id": "o_CU0nmEAVzP"
      },
      "execution_count": null,
      "outputs": []
    }
  ]
}